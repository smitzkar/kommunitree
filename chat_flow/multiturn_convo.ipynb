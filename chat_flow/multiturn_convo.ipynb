{
 "cells": [
  {
   "cell_type": "markdown",
   "metadata": {},
   "source": [
    "just a copy from the examples, with some playing around"
   ]
  },
  {
   "cell_type": "code",
   "execution_count": 2,
   "metadata": {},
   "outputs": [],
   "source": [
    "import os\n",
    "from dotenv import load_dotenv\n",
    "from openai import OpenAI\n",
    "\n",
    "load_dotenv()\n",
    "api_key = os.getenv(\"OPENAI_API_KEY\")\n",
    "client = OpenAI()\n"
   ]
  },
  {
   "cell_type": "code",
   "execution_count": 3,
   "metadata": {},
   "outputs": [
    {
     "name": "stdout",
     "output_type": "stream",
     "text": [
      "{'content': 'Hey!', 'role': 'user'}\n",
      "{'content': 'Hey! How are you? How can I help you today?', 'role': 'assistant'}\n",
      "{'content': 'Im having a bad day', 'role': 'user'}\n",
      "{'id': 'msg_68b87205374c81958465cbf5815eb48c0abdc759a66b6aef', 'content': [{'annotations': [], 'text': \"I'm sorry to hear that. Do you want to talk about what's been going on, or is there anything I can do to help?\", 'type': 'output_text', 'logprobs': []}], 'role': 'assistant', 'status': 'completed', 'type': 'message'}\n"
     ]
    }
   ],
   "source": [
    "from agents import Agent, Runner, TResponseInputItem\n",
    "\n",
    "simple_agent = Agent(\n",
    "    name=\"Bob\",\n",
    "    instructions=\"You are a friendly assistant. Reply concisely.\"\n",
    ")\n",
    "\n",
    "# list[TResponseInputItem] is valid input for query (as alternative to simple string)\n",
    "convo: list[TResponseInputItem] = [\n",
    "    {\"content\": \"Hey!\", \"role\": \"user\"},\n",
    "    {\"content\": \"Hey! How are you? How can I help you today?\", \"role\": \"assistant\"},\n",
    "    {\"content\": \"Im having a bad day\", \"role\": \"user\"}\n",
    "]\n",
    "result = await Runner.run(simple_agent, convo)\n",
    "for message in result.to_input_list():\n",
    "    print(message)"
   ]
  },
  {
   "cell_type": "code",
   "execution_count": null,
   "metadata": {},
   "outputs": [
    {
     "name": "stdout",
     "output_type": "stream",
     "text": [
      "Continuing the previous conversation. Type 'exit' to end the conversation.\n",
      "Last message: user Im having a bad day\n",
      "Agent: I'm sorry to hear that. Want to talk about what's going on? Sometimes sharing can help.\n",
      "You: no thanks\n",
      "Agent: That's okay. If there's anything else you need or something that might lift your spirits, just let me know. I'm here for you!\n",
      "You: exit\n",
      "Goodbye!\n",
      "[{'content': 'Hey!', 'role': 'user'}, {'content': 'Hey! How are you? How can I help you today?', 'role': 'assistant'}, {'content': 'Im having a bad day', 'role': 'user'}, {'id': 'msg_68b87241662481909cd14e7e725c1ff3013c8927c407c48e', 'content': [{'annotations': [], 'text': \"I'm sorry to hear that. Want to talk about what's going on? Sometimes sharing can help.\", 'type': 'output_text', 'logprobs': []}], 'role': 'assistant', 'status': 'completed', 'type': 'message'}, {'content': 'no thanks', 'role': 'user'}, {'id': 'msg_68b87247337081908b52a1765a1ec2ab013c8927c407c48e', 'content': [{'annotations': [], 'text': \"That's okay. If there's anything else you need or something that might lift your spirits, just let me know. I'm here for you!\", 'type': 'output_text', 'logprobs': []}], 'role': 'assistant', 'status': 'completed', 'type': 'message'}]\n"
     ]
    }
   ],
   "source": [
    "convo: list[TResponseInputItem] = [\n",
    "    {\"content\": \"Hey!\", \"role\": \"user\"},\n",
    "    {\"content\": \"Hey! How are you? How can I help you today?\", \"role\": \"assistant\"},\n",
    "    {\"content\": \"Im having a bad day\", \"role\": \"user\"}\n",
    "]\n",
    "\n",
    "\n",
    "print(\"Continuing the previous conversation. Type 'exit' to end the conversation.\")\n",
    "\n",
    "\n",
    "# prints out the last message as a reminder (here it was the user)\n",
    "print(f\"Last message: {convo[-1]['role']} {convo[-1]['content']}\")\n",
    "# should have an if ... role == user, else ... here for the real one\n",
    "\n",
    "# sends it to agent as normal, prints it, then\n",
    "result = await Runner.run(simple_agent, convo)\n",
    "print(f\"Agent: {result.final_output}\")\n",
    "# adds it to the existing convo\n",
    "convo = result.to_input_list()\n",
    "\n",
    "while True:\n",
    "    user_input = input(\"You: \")\n",
    "    print(\"You: \" + user_input)\n",
    "\n",
    "    if user_input == \"exit\":\n",
    "        print(\"Goodbye!\")\n",
    "        break\n",
    "\n",
    "    convo.append({\"content\": user_input, \"role\": \"user\"})\n",
    "    result = await Runner.run(simple_agent, convo)\n",
    "\n",
    "    print(f\"Agent: {result.final_output}\")\n",
    "\n",
    "    # adds it to the existing convo\n",
    "    convo = result.to_input_list()\n",
    "\n",
    "print(convo)"
   ]
  },
  {
   "cell_type": "code",
   "execution_count": 5,
   "metadata": {},
   "outputs": [
    {
     "name": "stdout",
     "output_type": "stream",
     "text": [
      "You are now chatting with the triage agent. Type 'exit' to end the conversation.\n",
      "You: Uhm. What is this for?\n",
      "Triage Agent: I'm here to help with your homework questions related to history or math. If you have a specific question in either of those subjects, feel free to ask!\n",
      "\n",
      "You: Can you help me with algebra?\n",
      "Handing off to math tutor agent\n",
      "Math Tutor: Of course! What algebra question do you need help with?\n",
      "\n",
      "You: How much do I need to bake cookies?\n",
      "Math Tutor: For that, let me know how many cookies you want to bake and if you have a specific recipe. Also, how is this related to algebra? Are you trying to figure out ingredient amounts using equations?\n",
      "\n",
      "You: I guess I'm more interested in the history, after all\n",
      "Math Tutor: No problem! What historical topic are you curious about?\n",
      "\n",
      "You: exit\n",
      "Goodbye!\n"
     ]
    }
   ],
   "source": [
    "from agents import Agent, Runner, handoff, RunContextWrapper\n",
    "\n",
    "history_tutor_agent = Agent(\n",
    "    name=\"History Tutor\",\n",
    "    handoff_description=\"Specialist agent for historical questions\",\n",
    "    instructions=\"You provide assistance with historical queries. Explain important events and context clearly.\",\n",
    ")\n",
    "\n",
    "math_tutor_agent = Agent(\n",
    "    name=\"Math Tutor\",\n",
    "    handoff_description=\"Specialist agent for math questions\",\n",
    "    instructions=\"You provide assistance with math queries. Explain your reasoning at each step and include examples\"\n",
    ")\n",
    "\n",
    "def on_math_handoff(ctx: RunContextWrapper[None]):\n",
    "    print(\"Handing off to math tutor agent\")\n",
    "\n",
    "# This agent has the capability to handoff to either the history or math tutor agent\n",
    "triage_agent = Agent(\n",
    "    name=\"Triage Agent\",\n",
    "    instructions=\"You determine which agent to use based on the user's homework question.\" +\n",
    "    \"If neither agent is relevant, provide a general response.\",\n",
    "    handoffs=[history_tutor_agent, handoff(math_tutor_agent, on_handoff=on_math_handoff)]\n",
    ")\n",
    "\n",
    "convo: list[TResponseInputItem] = []\n",
    "last_agent = triage_agent\n",
    "print(\"You are now chatting with the triage agent. Type 'exit' to end the conversation.\")\n",
    "while True:\n",
    "    user_input = input(\"You: \")\n",
    "    print(\"You: \" + user_input)\n",
    "\n",
    "    if user_input == \"exit\":\n",
    "        print(\"Goodbye!\")\n",
    "        break\n",
    "\n",
    "    convo.append({\"content\": user_input, \"role\": \"user\"})\n",
    "    result = await Runner.run(last_agent, convo)\n",
    "\n",
    "    convo = result.to_input_list()\n",
    "    last_agent = result.last_agent\n",
    "\n",
    "    print(f\"{last_agent.name}: {result.final_output}\\n\")"
   ]
  }
 ],
 "metadata": {
  "kernelspec": {
   "display_name": ".venv",
   "language": "python",
   "name": "python3"
  },
  "language_info": {
   "codemirror_mode": {
    "name": "ipython",
    "version": 3
   },
   "file_extension": ".py",
   "mimetype": "text/x-python",
   "name": "python",
   "nbconvert_exporter": "python",
   "pygments_lexer": "ipython3",
   "version": "3.12.3"
  }
 },
 "nbformat": 4,
 "nbformat_minor": 2
}
