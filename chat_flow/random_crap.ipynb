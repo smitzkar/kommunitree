{
 "cells": [
  {
   "cell_type": "code",
   "execution_count": null,
   "id": "3ac5b719",
   "metadata": {},
   "outputs": [
    {
     "name": "stdout",
     "output_type": "stream",
     "text": [
      "I'm just easier to use\n",
      "test\n",
      "I'm just easier to use\n",
      "test\n",
      "I'm just easier to use\n",
      "test\n"
     ]
    }
   ],
   "source": [
    "\n",
    "from typing import Callable\n",
    "from functools import wraps\n",
    "from time import perf_counter, sleep\n",
    "\n",
    "def t(func):\n",
    "    @wraps(func)\n",
    "    def wrapper(*args, **kwargs):\n",
    "        print(\"I'm just easier to use\")\n",
    "        func(*args, **kwargs)\n",
    "    return wrapper\n",
    "\n",
    "@t\n",
    "def function_with_needlessly_long_name_for_testing_some_stuff():\n",
    "    print(\"test\")\n",
    "    \n",
    "function_with_needlessly_long_name_for_testing_some_stuff()\n",
    "\n",
    "\n",
    "# actually the other way around! \n",
    "# t acts as a carry on\n",
    "\n",
    "\n",
    "# oh yeah, the easy solution in python is simply:\n",
    "# short = function_with_needlessly_long_name_for_testing_some_stuff # no () so that the function is assigned, not the return\n",
    "# tried to get it to show what it is in ide typehints, but doesn't work\n",
    "short: Callable = function_with_needlessly_long_name_for_testing_some_stuff # no () so that the function is assigned, not the return\n",
    "\n",
    "short()\n",
    "\n",
    "# this works\n",
    "def new_short():\n",
    "    \"\"\"return function_with_needlessly_long_name_for_testing_some_stuff()\"\"\"\n",
    "    return function_with_needlessly_long_name_for_testing_some_stuff()\n",
    "\n",
    "new_short()"
   ]
  }
 ],
 "metadata": {
  "kernelspec": {
   "display_name": ".venv",
   "language": "python",
   "name": "python3"
  },
  "language_info": {
   "codemirror_mode": {
    "name": "ipython",
    "version": 3
   },
   "file_extension": ".py",
   "mimetype": "text/x-python",
   "name": "python",
   "nbconvert_exporter": "python",
   "pygments_lexer": "ipython3",
   "version": "3.12.3"
  }
 },
 "nbformat": 4,
 "nbformat_minor": 5
}
